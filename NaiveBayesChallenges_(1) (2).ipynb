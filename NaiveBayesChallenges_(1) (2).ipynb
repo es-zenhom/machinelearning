{
  "nbformat": 4,
  "nbformat_minor": 0,
  "metadata": {
    "colab": {
      "provenance": [],
      "collapsed_sections": []
    },
    "kernelspec": {
      "name": "python3",
      "display_name": "Python 3"
    }
  },
  "cells": [
    {
      "cell_type": "markdown",
      "metadata": {
        "id": "rmaRxoK0VgnU"
      },
      "source": [
        "# Challenge 1: Multinomial NB"
      ]
    },
    {
      "cell_type": "markdown",
      "metadata": {
        "id": "lotcnKGdVkYF"
      },
      "source": [
        "Repeat the text classification exercise from the class lecture, choosing \n",
        "\n",
        "1. Four categories which you think are sufficiently distinct from each other and therefore easy to discriminate. Is the confusion matrix mostly diagonal as expected? Use the *predict category* utility function defined in class to classify a text string --- do a few examples. Can you then think of a sentence which would trick the classifier?\n",
        "\n",
        "2. Four categories which you think are either close to each other or sufficiently fuzzy so that they would be difficult to discriminate. Does the confusion matrix look like what you expected?"
      ]
    },
    {
      "cell_type": "code",
      "source": [
        "%matplotlib inline\n",
        "import numpy as np\n",
        "import matplotlib.pyplot as plt\n",
        "import seaborn as sns; sns.set()"
      ],
      "metadata": {
        "id": "6gurEDrgQU1F"
      },
      "execution_count": 161,
      "outputs": []
    },
    {
      "cell_type": "code",
      "source": [
        "from sklearn.datasets import fetch_20newsgroups\n",
        "\n",
        "data = fetch_20newsgroups()\n",
        "data.target_names"
      ],
      "metadata": {
        "colab": {
          "base_uri": "https://localhost:8080/"
        },
        "id": "L-vCv4I-QUgf",
        "outputId": "abc24eeb-20bb-4555-b00c-83627ad3311c"
      },
      "execution_count": 162,
      "outputs": [
        {
          "output_type": "execute_result",
          "data": {
            "text/plain": [
              "['alt.atheism',\n",
              " 'comp.graphics',\n",
              " 'comp.os.ms-windows.misc',\n",
              " 'comp.sys.ibm.pc.hardware',\n",
              " 'comp.sys.mac.hardware',\n",
              " 'comp.windows.x',\n",
              " 'misc.forsale',\n",
              " 'rec.autos',\n",
              " 'rec.motorcycles',\n",
              " 'rec.sport.baseball',\n",
              " 'rec.sport.hockey',\n",
              " 'sci.crypt',\n",
              " 'sci.electronics',\n",
              " 'sci.med',\n",
              " 'sci.space',\n",
              " 'soc.religion.christian',\n",
              " 'talk.politics.guns',\n",
              " 'talk.politics.mideast',\n",
              " 'talk.politics.misc',\n",
              " 'talk.religion.misc']"
            ]
          },
          "metadata": {},
          "execution_count": 162
        }
      ]
    },
    {
      "cell_type": "code",
      "source": [
        "categories = ['rec.autos', 'talk.politics.guns',\n",
        "              'sci.space', 'comp.graphics']\n",
        "train = fetch_20newsgroups(subset='train', categories=categories)\n",
        "test = fetch_20newsgroups(subset='test', categories=categories)"
      ],
      "metadata": {
        "id": "K9ufoUzvQUdJ"
      },
      "execution_count": 163,
      "outputs": []
    },
    {
      "cell_type": "code",
      "source": [
        "print(train.target[0:6])"
      ],
      "metadata": {
        "colab": {
          "base_uri": "https://localhost:8080/"
        },
        "id": "BfDVTtpIQUaU",
        "outputId": "689481ad-ed8b-4f91-a462-eba26832a7c6"
      },
      "execution_count": 164,
      "outputs": [
        {
          "output_type": "stream",
          "name": "stdout",
          "text": [
            "[2 3 2 1 3 1]\n"
          ]
        }
      ]
    },
    {
      "cell_type": "code",
      "source": [
        "print(train.data[3])\n"
      ],
      "metadata": {
        "colab": {
          "base_uri": "https://localhost:8080/"
        },
        "id": "MInNBD8qR4rv",
        "outputId": "caa1d36c-005c-4043-dfc8-544268d6b847"
      },
      "execution_count": 165,
      "outputs": [
        {
          "output_type": "stream",
          "name": "stdout",
          "text": [
            "From: ward@cs.uiuc.edu (Christ Ward)\n",
            "Subject: Re: Dumbest automotive concepts of all time\n",
            "Organization: University of Illinois, Dept. of Comp. Sci., Urbana, IL\n",
            "Lines: 49\n",
            "\n",
            "R1004@vmcms.csuohio.edu writes:\n",
            "\n",
            ">In article <C5Lz30.Jus@news.cso.uiuc.edu>\n",
            ">cka52397@uxa.cso.uiuc.edu (OrioleFan@uiuc) writes:\n",
            "> \n",
            ">>laszlo@csd4.csd.uwm.edu (Tyson F Nuss) writes:\n",
            ">>\n",
            ">>>From article <1pq6i2$a1f@news.ysu.edu>, by ak296@yfn.ysu.edu (John R. Daker):\n",
            ">>>>\n",
            ">>\n",
            ">>>> Fake convertible roofs and vinyl roofs.\n",
            ">>>> Any gold trim.\n",
            ">>\n",
            ">>>\tThese, I will agree, are abominations, right along with the fake\n",
            ">>>continental spare-tire kit -- it's sad watching those little old ladies\n",
            ">>>try to load their groceries into the trunk with that huge tire-medallion\n",
            ">>>in the way.\n",
            ">>>\tMost pitiful fake convertible top: on a \"Cadillac\" Cimarron, with\n",
            ">>>all the chrome door trim still visible -- not fooling *anyone*.\n",
            ">>>Of course, there was that Hyundai Excel I once saw...\n",
            ">>\n",
            ">>\tI have seen a cutlass Supreme coupe (GM10) with a vinyl roof, ditto\n",
            ">>a Taurus.  Shoot the owners, NOW, before it's too late.\n",
            ">>\n",
            ">    It gets better.  I've seen them on a 4-door escort, Chevy S-10\n",
            ">Blazer, and even a Chevy astro mini-van.  A mini-van w/ a fake\n",
            ">convertible top is not something you want to see just after eating!\n",
            "> \n",
            "\n",
            "\tAnd better yet..There's a chevette in town with wire crome wheels,\n",
            "vinyl roof, tacky paint job and a continental spare (showing the wire\n",
            "crome wheel within, of course)...I'm scared to look on the inside and have\n",
            "only seen it rolling down the road...and I too was glad I hadn't just ate.\n",
            "\n",
            "\n",
            "\n",
            "> \n",
            ">------------------------------------------------------------------------\n",
            ">Bob Martel               |  Lady luck must have been a wonderful girl\n",
            ">bob2@cua3.csuohio.edu    |    -She's never been a friend of mine!\n",
            ">R1004@vmcms.csuohio.edu  |                    The Alan Parsons Project\n",
            ">                         |     The 3B1 lives!\n",
            ">--------------------------------------------------------------------------\n",
            "-- \n",
            "-------------------------------------------------------------------------------\n",
            "Chris T. Ward  DoD#0710   \"Don't take life too seriously, you can never come\n",
            "                           out of it alive.\"  -?\n",
            "-------------------------------------------------------------------------------  \n",
            " \n",
            "\n"
          ]
        }
      ]
    },
    {
      "cell_type": "code",
      "source": [
        "from sklearn.feature_extraction.text import TfidfVectorizer\n",
        "from sklearn.naive_bayes import MultinomialNB\n",
        "from sklearn.pipeline import make_pipeline\n",
        "\n",
        "model = make_pipeline(TfidfVectorizer(), MultinomialNB())"
      ],
      "metadata": {
        "id": "Ggee3AGMR4pU"
      },
      "execution_count": 166,
      "outputs": []
    },
    {
      "cell_type": "code",
      "source": [
        "model.fit(train.data, train.target)\n",
        "labels = model.predict(test.data)"
      ],
      "metadata": {
        "id": "K_Hci0l3R4mr"
      },
      "execution_count": 167,
      "outputs": []
    },
    {
      "cell_type": "code",
      "source": [
        "from sklearn.metrics import confusion_matrix\n",
        "mat = confusion_matrix(test.target, labels)\n",
        "sns.heatmap(mat.T, square=True, annot=True, fmt='d', cbar=False,\n",
        "            xticklabels=train.target_names, yticklabels=train.target_names)\n",
        "plt.xlabel('true label')\n",
        "plt.ylabel('predicted label');"
      ],
      "metadata": {
        "colab": {
          "base_uri": "https://localhost:8080/",
          "height": 368
        },
        "id": "pBR2bdvSR4j9",
        "outputId": "ad9fab0e-5790-4d1d-d96a-4d1396f2ccb0"
      },
      "execution_count": 168,
      "outputs": [
        {
          "output_type": "display_data",
          "data": {
            "text/plain": [
              "<Figure size 432x288 with 1 Axes>"
            ],
            "image/png": "[encoded data removed]"
          },
          "metadata": {}
        }
      ]
    },
    {
      "cell_type": "markdown",
      "source": [
        "Yup the cnfusion matrix is diagonal as expected cuz the categories can be easly indentified on the oppsoite to th one used in class"
      ],
      "metadata": {
        "id": "j38KLPLJSffX"
      }
    },
    {
      "cell_type": "code",
      "source": [
        "def predict_category(s, train=train, model=model):\n",
        "    pred = model.predict([s])\n",
        "    return train.target_names[pred[0]]"
      ],
      "metadata": {
        "id": "FNacVOVvS-jD"
      },
      "execution_count": 169,
      "outputs": []
    },
    {
      "cell_type": "code",
      "source": [
        "predict_category('NASA is trying to get to the moon')"
      ],
      "metadata": {
        "colab": {
          "base_uri": "https://localhost:8080/",
          "height": 36
        },
        "id": "gTuU_B3bR4g4",
        "outputId": "6f156b4b-09ce-463b-ba4a-c605a77458d6"
      },
      "execution_count": 170,
      "outputs": [
        {
          "output_type": "execute_result",
          "data": {
            "text/plain": [
              "'sci.space'"
            ],
            "application/vnd.google.colaboratory.intrinsic+json": {
              "type": "string"
            }
          },
          "metadata": {},
          "execution_count": 170
        }
      ]
    },
    {
      "cell_type": "code",
      "source": [
        "predict_category('most labtops nowdays have full hd displays')"
      ],
      "metadata": {
        "colab": {
          "base_uri": "https://localhost:8080/",
          "height": 36
        },
        "id": "4l_oU03LR4eS",
        "outputId": "3b0bc5d7-23e1-404d-8eff-e37d4d9c5ea4"
      },
      "execution_count": 171,
      "outputs": [
        {
          "output_type": "execute_result",
          "data": {
            "text/plain": [
              "'comp.graphics'"
            ],
            "application/vnd.google.colaboratory.intrinsic+json": {
              "type": "string"
            }
          },
          "metadata": {},
          "execution_count": 171
        }
      ]
    },
    {
      "cell_type": "code",
      "source": [
        "predict_category('mgot a ticket for speeding')"
      ],
      "metadata": {
        "colab": {
          "base_uri": "https://localhost:8080/",
          "height": 36
        },
        "id": "ljm5BA_ySwNf",
        "outputId": "cbe21a66-52f7-4b9b-ddce-bf10231f17bc"
      },
      "execution_count": 172,
      "outputs": [
        {
          "output_type": "execute_result",
          "data": {
            "text/plain": [
              "'rec.autos'"
            ],
            "application/vnd.google.colaboratory.intrinsic+json": {
              "type": "string"
            }
          },
          "metadata": {},
          "execution_count": 172
        }
      ]
    },
    {
      "cell_type": "code",
      "source": [
        "predict_category('there is a poltical national probelm with weabons at the US')"
      ],
      "metadata": {
        "colab": {
          "base_uri": "https://localhost:8080/",
          "height": 36
        },
        "id": "bAvOHgFYSwK0",
        "outputId": "35f5819c-368a-4353-d054-9b63007f7220"
      },
      "execution_count": 173,
      "outputs": [
        {
          "output_type": "execute_result",
          "data": {
            "text/plain": [
              "'talk.politics.guns'"
            ],
            "application/vnd.google.colaboratory.intrinsic+json": {
              "type": "string"
            }
          },
          "metadata": {},
          "execution_count": 173
        }
      ]
    },
    {
      "cell_type": "code",
      "source": [],
      "metadata": {
        "id": "jSPyC1tKSwIT"
      },
      "execution_count": 173,
      "outputs": []
    },
    {
      "cell_type": "markdown",
      "source": [
        "Let's now confuess it"
      ],
      "metadata": {
        "id": "khFPqVOoTbuJ"
      }
    },
    {
      "cell_type": "code",
      "source": [
        "predict_category('I just went to the garage of NASA space statition and parked my car, then I met a frined and we talked about the guns law in the US')"
      ],
      "metadata": {
        "colab": {
          "base_uri": "https://localhost:8080/",
          "height": 36
        },
        "id": "Y1tn6zqvSwFj",
        "outputId": "db6be80d-c5fc-4edb-923e-f91bd0c4f1e8"
      },
      "execution_count": 174,
      "outputs": [
        {
          "output_type": "execute_result",
          "data": {
            "text/plain": [
              "'talk.politics.guns'"
            ],
            "application/vnd.google.colaboratory.intrinsic+json": {
              "type": "string"
            }
          },
          "metadata": {},
          "execution_count": 174
        }
      ]
    },
    {
      "cell_type": "code",
      "source": [],
      "metadata": {
        "id": "IZ7Iee9tUIu2"
      },
      "execution_count": 174,
      "outputs": []
    },
    {
      "cell_type": "code",
      "source": [
        "categories1 = ['alt.atheism', 'soc.religion.christian',\n",
        "              'talk.religion.misc', 'talk.politics.misc']\n",
        "train1 = fetch_20newsgroups(subset='train', categories=categories1)\n",
        "test1 = fetch_20newsgroups(subset='test', categories=categories1)"
      ],
      "metadata": {
        "id": "duS8rl8VUIr5"
      },
      "execution_count": 175,
      "outputs": []
    },
    {
      "cell_type": "code",
      "source": [
        "model.fit(train1.data, train1.target)\n",
        "labels = model.predict(test1.data)"
      ],
      "metadata": {
        "id": "FOL17JAxUIpZ"
      },
      "execution_count": 176,
      "outputs": []
    },
    {
      "cell_type": "code",
      "source": [
        "ma1t = confusion_matrix(test1.target, labels)\n",
        "sns.heatmap(ma1t.T, square=True, annot=True, fmt='d', cbar=False,\n",
        "            xticklabels=train1.target_names, yticklabels=train1.target_names)\n",
        "plt.xlabel('true label')\n",
        "plt.ylabel('predicted label');"
      ],
      "metadata": {
        "colab": {
          "base_uri": "https://localhost:8080/",
          "height": 389
        },
        "id": "KlbNG8VuUImc",
        "outputId": "4d485c26-e0ee-4dab-8637-6f6d05f8ee81"
      },
      "execution_count": 177,
      "outputs": [
        {
          "output_type": "display_data",
          "data": {
            "text/plain": [
              "<Figure size 432x288 with 1 Axes>"
            ],
            "image/png": "[encoded data removed]"
          },
          "metadata": {}
        }
      ]
    },
    {
      "cell_type": "markdown",
      "source": [
        "YES it look like what expected, it's not diagonal as we have a lot of confusion here for example the 153 which is confused between soc.religion.christian and talk.religion.misc"
      ],
      "metadata": {
        "id": "ojgGTRBjXCR0"
      }
    },
    {
      "cell_type": "markdown",
      "source": [],
      "metadata": {
        "id": "8NJ5rFa_1Uz9"
      }
    },
    {
      "cell_type": "markdown",
      "metadata": {
        "id": "hInsSzOScu3a"
      },
      "source": [
        "# Challenge 2: Gaussian NB on Irises"
      ]
    },
    {
      "cell_type": "markdown",
      "metadata": {
        "id": "PJWJd9a4g41R"
      },
      "source": [
        "Consider the standard Iris dataset and attempt to classify the species with GaussianNB. Apply a 50-50 train-test split, train the model, compute the accuracy of the predictions and construct the confusion matrix."
      ]
    },
    {
      "cell_type": "code",
      "source": [
        "import seaborn as sns\n",
        "iris = sns.load_dataset('iris')\n",
        "iris.shape"
      ],
      "metadata": {
        "colab": {
          "base_uri": "https://localhost:8080/"
        },
        "id": "DaB7Sk9YXS-i",
        "outputId": "2bec2895-c9c4-4344-db20-ab14ed8d3fde"
      },
      "execution_count": 178,
      "outputs": [
        {
          "output_type": "execute_result",
          "data": {
            "text/plain": [
              "(150, 5)"
            ]
          },
          "metadata": {},
          "execution_count": 178
        }
      ]
    },
    {
      "cell_type": "code",
      "source": [],
      "metadata": {
        "id": "tr2u68F9XS6o"
      },
      "execution_count": 178,
      "outputs": []
    },
    {
      "cell_type": "code",
      "source": [
        "X = iris.iloc[:,:4].values\n",
        "y = iris['species'].values\n",
        "print(X.shape)\n"
      ],
      "metadata": {
        "colab": {
          "base_uri": "https://localhost:8080/"
        },
        "id": "6dJiBQMzXS2i",
        "outputId": "545ddf6a-1a83-4282-b043-e76ea7a07500"
      },
      "execution_count": 179,
      "outputs": [
        {
          "output_type": "stream",
          "name": "stdout",
          "text": [
            "(150, 4)\n"
          ]
        }
      ]
    },
    {
      "cell_type": "code",
      "source": [
        "from sklearn.model_selection import train_test_split\n",
        "X_train, X_test, y_train, y_test = train_test_split(X, y, test_size = 0.5)\n",
        "print(X_train.shape)"
      ],
      "metadata": {
        "colab": {
          "base_uri": "https://localhost:8080/"
        },
        "id": "3J_95YioXSxN",
        "outputId": "4e6b179f-654f-42ab-86ae-0b5f5f639c21"
      },
      "execution_count": 180,
      "outputs": [
        {
          "output_type": "stream",
          "name": "stdout",
          "text": [
            "(75, 4)\n"
          ]
        }
      ]
    },
    {
      "cell_type": "code",
      "source": [
        "from sklearn.naive_bayes import GaussianNB\n",
        "classifier = GaussianNB()\n",
        "classifier.fit(X_train, y_train)"
      ],
      "metadata": {
        "colab": {
          "base_uri": "https://localhost:8080/"
        },
        "id": "KRlaQCMeXSrA",
        "outputId": "e7632745-b220-4922-c785-3bc7890b6dc9"
      },
      "execution_count": 181,
      "outputs": [
        {
          "output_type": "execute_result",
          "data": {
            "text/plain": [
              "GaussianNB()"
            ]
          },
          "metadata": {},
          "execution_count": 181
        }
      ]
    },
    {
      "cell_type": "code",
      "source": [
        "y_pred = classifier.predict(X_test) \n"
      ],
      "metadata": {
        "id": "5RrV4Wg1XSPs"
      },
      "execution_count": 182,
      "outputs": []
    },
    {
      "cell_type": "code",
      "source": [
        "from sklearn.metrics import confusion_matrix\n",
        "cm = confusion_matrix(y_test, y_pred)\n",
        "ma1t = confusion_matrix(y_test, y_pred)\n",
        "sns.heatmap(ma1t.T, square=True, annot=True, fmt='d', cbar=False)\n",
        "plt.xlabel('true label')\n",
        "plt.ylabel('predicted label');\n",
        "cm\n"
      ],
      "metadata": {
        "colab": {
          "base_uri": "https://localhost:8080/",
          "height": 340
        },
        "id": "fK7zCNG7XSHF",
        "outputId": "86ea18aa-3f98-4a39-993f-7359c5dbf8b6"
      },
      "execution_count": 183,
      "outputs": [
        {
          "output_type": "execute_result",
          "data": {
            "text/plain": [
              "array([[23,  0,  0],\n",
              "       [ 0, 25,  2],\n",
              "       [ 0,  1, 24]])"
            ]
          },
          "metadata": {},
          "execution_count": 183
        },
        {
          "output_type": "display_data",
          "data": {
            "text/plain": [
              "<Figure size 432x288 with 1 Axes>"
            ],
            "image/png": "[encoded data removed]"
          },
          "metadata": {}
        }
      ]
    },
    {
      "cell_type": "code",
      "source": [
        "from sklearn.metrics import accuracy_score \n",
        "print (\"Accuracy : \", accuracy_score(y_test, y_pred))\n"
      ],
      "metadata": {
        "colab": {
          "base_uri": "https://localhost:8080/"
        },
        "id": "4WuAg3Sp5A9f",
        "outputId": "624dbde9-0aad-415b-ac77-a0a46fd9217b"
      },
      "execution_count": 184,
      "outputs": [
        {
          "output_type": "stream",
          "name": "stdout",
          "text": [
            "Accuracy :  0.96\n"
          ]
        }
      ]
    },
    {
      "cell_type": "markdown",
      "metadata": {
        "id": "ZKvowM2gc1Pg"
      },
      "source": [
        "# Challenge 3: Gaussian NB on Digits"
      ]
    },
    {
      "cell_type": "markdown",
      "metadata": {
        "id": "683m1Jt7gLfb"
      },
      "source": [
        "Consider the handwritten digits dataset from scikit-learn and attempt to classify the digits with GaussianNB. Apply the default train-test split, train a model, compute the accuracy score and construct the confusion matrix. Print a few examples where the model's prediction was wrong."
      ]
    },
    {
      "cell_type": "code",
      "source": [
        "from sklearn.datasets import load_digits\n",
        "digits = load_digits()\n",
        "digits.images.shape"
      ],
      "metadata": {
        "colab": {
          "base_uri": "https://localhost:8080/"
        },
        "id": "aH99jOjk5kLq",
        "outputId": "b556facc-ca75-4570-87b6-95169e873206"
      },
      "execution_count": 185,
      "outputs": [
        {
          "output_type": "execute_result",
          "data": {
            "text/plain": [
              "(1797, 8, 8)"
            ]
          },
          "metadata": {},
          "execution_count": 185
        }
      ]
    },
    {
      "cell_type": "code",
      "source": [
        "X1 = digits.data\n",
        "X1.shape"
      ],
      "metadata": {
        "colab": {
          "base_uri": "https://localhost:8080/"
        },
        "id": "9ZT-t5cd5lF9",
        "outputId": "b5e808d5-d025-4053-c4f9-00c7febff92e"
      },
      "execution_count": 186,
      "outputs": [
        {
          "output_type": "execute_result",
          "data": {
            "text/plain": [
              "(1797, 64)"
            ]
          },
          "metadata": {},
          "execution_count": 186
        }
      ]
    },
    {
      "cell_type": "code",
      "source": [
        "y1=digits.target\n",
        "y1.shape"
      ],
      "metadata": {
        "colab": {
          "base_uri": "https://localhost:8080/"
        },
        "id": "hqcOsaR85lDB",
        "outputId": "423379d6-72b0-418a-847a-016a1c4d58d7"
      },
      "execution_count": 187,
      "outputs": [
        {
          "output_type": "execute_result",
          "data": {
            "text/plain": [
              "(1797,)"
            ]
          },
          "metadata": {},
          "execution_count": 187
        }
      ]
    },
    {
      "cell_type": "code",
      "source": [
        "from sklearn.manifold import Isomap\n",
        "iso = Isomap(n_components =2)\n",
        "iso.fit(X1)\n",
        "data_projected = iso.transform(X1)\n",
        "data_projected.shape"
      ],
      "metadata": {
        "colab": {
          "base_uri": "https://localhost:8080/"
        },
        "id": "ivE2FFSl5lAq",
        "outputId": "69880144-f117-4793-8c3e-6841dd18c215"
      },
      "execution_count": 188,
      "outputs": [
        {
          "output_type": "stream",
          "name": "stderr",
          "text": [
            "/usr/local/lib/python3.7/dist-packages/sklearn/manifold/_isomap.py:304: UserWarning: The number of connected components of the neighbors graph is 2 > 1. Completing the graph to fit Isomap might be slow. Increase the number of neighbors to avoid this issue.\n",
            "  self._fit_transform(X)\n",
            "/usr/local/lib/python3.7/dist-packages/scipy/sparse/_index.py:82: SparseEfficiencyWarning: Changing the sparsity structure of a csr_matrix is expensive. lil_matrix is more efficient.\n",
            "  self._set_intXint(row, col, x.flat[0])\n"
          ]
        },
        {
          "output_type": "execute_result",
          "data": {
            "text/plain": [
              "(1797, 2)"
            ]
          },
          "metadata": {},
          "execution_count": 188
        }
      ]
    },
    {
      "cell_type": "code",
      "source": [
        "from sklearn.model_selection import train_test_split\n",
        "X_train1,X_test1,y_train1,y_test1 = train_test_split(X1,y1,random_state=0)"
      ],
      "metadata": {
        "id": "GvfvuEw55k94"
      },
      "execution_count": 189,
      "outputs": []
    },
    {
      "cell_type": "code",
      "source": [
        "from sklearn.naive_bayes import GaussianNB\n",
        "GNB= GaussianNB()\n",
        "GNB.fit(X_train1,y_train1)\n",
        "y_GNB = GNB.predict(X_test1)"
      ],
      "metadata": {
        "id": "HcJBMwwZ5k7S"
      },
      "execution_count": 190,
      "outputs": []
    },
    {
      "cell_type": "code",
      "source": [
        "from sklearn.metrics import accuracy_score\n",
        "accuracy_score(y_test1,y_GNB)"
      ],
      "metadata": {
        "colab": {
          "base_uri": "https://localhost:8080/"
        },
        "id": "ZXRAZ65B5k4P",
        "outputId": "b38177e2-7e46-456e-86a1-129742fb2043"
      },
      "execution_count": 191,
      "outputs": [
        {
          "output_type": "execute_result",
          "data": {
            "text/plain": [
              "0.8333333333333334"
            ]
          },
          "metadata": {},
          "execution_count": 191
        }
      ]
    },
    {
      "cell_type": "code",
      "source": [
        "matrix=confusion_matrix(y_test1,y_GNB)\n",
        "sns.heatmap(matrix, square = True, annot = True, cbar=False)\n",
        "plt.xlabel('Predicted Value')\n",
        "plt.ylabel('True Value')"
      ],
      "metadata": {
        "colab": {
          "base_uri": "https://localhost:8080/",
          "height": 303
        },
        "id": "ngU4_I6U5k1c",
        "outputId": "530a06e5-9c7e-4b76-819b-51239b926d8a"
      },
      "execution_count": 192,
      "outputs": [
        {
          "output_type": "execute_result",
          "data": {
            "text/plain": [
              "Text(89.18, 0.5, 'True Value')"
            ]
          },
          "metadata": {},
          "execution_count": 192
        },
        {
          "output_type": "display_data",
          "data": {
            "text/plain": [
              "<Figure size 432x288 with 1 Axes>"
            ],
            "image/png": "[encoded data removed]"
          },
          "metadata": {}
        }
      ]
    },
    {
      "cell_type": "code",
      "source": [
        "fig,axes = plt.subplots(10,10, figsize=(8,8),\n",
        "                       subplot_kw={'xticks':[], 'yticks':[]},\n",
        "                       gridspec_kw=dict(hspace=0.1,wspace=0.1))\n",
        "\n",
        "for i, ax in enumerate(axes.flat):\n",
        "    ax.imshow(digits.images[i], cmap='binary', interpolation = 'nearest'),\n",
        "    ax.text(0.05,0.05,str(y_GNB[i]),\n",
        "           transform=ax.transAxes, \n",
        "            color = 'green' if (y_test1[i]==y_GNB[i]) \n",
        "                               else 'red')\n",
        "    #the red ones are for the incorrect examples"
      ],
      "metadata": {
        "colab": {
          "base_uri": "https://localhost:8080/",
          "height": 467
        },
        "id": "dwg3zc425ks8",
        "outputId": "7aba6e51-3385-41ab-83c0-c2d9deaea0db"
      },
      "execution_count": 193,
      "outputs": [
        {
          "output_type": "display_data",
          "data": {
            "text/plain": [
              "<Figure size 576x576 with 100 Axes>"
            ],
            "image/png": "[encoded data removed]"
          },
          "metadata": {}
        }
      ]
    },
    {
      "cell_type": "markdown",
      "source": [
        "    #the red ones are for the incorrect examples and green for correct ones"
      ],
      "metadata": {
        "id": "ZwyuTYEc7GQT"
      }
    }
  ]
}