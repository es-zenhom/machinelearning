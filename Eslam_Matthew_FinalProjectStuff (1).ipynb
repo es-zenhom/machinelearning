{
  "nbformat": 4,
  "nbformat_minor": 0,
  "metadata": {
    "colab": {
      "provenance": []
    },
    "kernelspec": {
      "name": "python3",
      "display_name": "Python 3"
    },
    "language_info": {
      "name": "python"
    }
  },
  "cells": [
    {
      "cell_type": "markdown",
      "source": [
        "# Code Used for Running GNN\n",
        "https://github.com/sgnoohc/GATOR"
      ],
      "metadata": {
        "id": "3LZYAskYp73F"
      }
    },
    {
      "cell_type": "markdown",
      "source": [
        "# Slides for Presentation\n",
        "https://cernbox.cern.ch/s/TUVtrcDogJHWLgw"
      ],
      "metadata": {
        "id": "xCZ0wsV-qBFR"
      }
    },
    {
      "cell_type": "markdown",
      "source": [
        "# Output Graphs\n",
        "http://uaf-10.t2.ucsd.edu/~mdittric/GNN/\n",
        "http://uaf-10.t2.ucsd.edu/~mdittric/GNN_lr0.001_100epoch/"
      ],
      "metadata": {
        "id": "rbOT7sGpqndE"
      }
    }
  ]
}